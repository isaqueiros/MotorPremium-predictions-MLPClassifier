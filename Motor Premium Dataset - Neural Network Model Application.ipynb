{
 "cells": [
  {
   "cell_type": "markdown",
   "id": "fa95b521",
   "metadata": {},
   "source": [
    "# Motor Premium Dataset - MLP Classifier Model Application"
   ]
  },
  {
   "cell_type": "markdown",
   "id": "cb65a73b",
   "metadata": {},
   "source": [
    "This Jupyter Notebooks is an initial study of the application of sklearn neural network MLP Classifier model. <br>\n",
    "The model is applied to dataset MotorPremiums, which is supplied separately in .csv format. <br><br>\n",
    "This file contains 8 main sessions:\n",
    "- Data Exploration\n",
    "- Basic Data Cleaning\n",
    "- Definition of Target\n",
    "- Train, Test, Validate subsets split\n",
    "- Model Fitting\n",
    "- Predictions on Validation Subset\n",
    "- Predictions on Test Subset"
   ]
  },
  {
   "cell_type": "markdown",
   "id": "8088003c",
   "metadata": {},
   "source": [
    "## Data Exploration"
   ]
  },
  {
   "cell_type": "code",
   "execution_count": 1,
   "id": "098c202a",
   "metadata": {},
   "outputs": [],
   "source": [
    "# Libraries used in this Notebook\n",
    "import pandas as pd\n",
    "import matplotlib.pyplot as plt\n",
    "import numpy as np\n",
    "from sklearn.model_selection import train_test_split\n",
    "from sklearn.neural_network import MLPRegressor\n",
    "from sklearn.metrics import mean_squared_error, r2_score\n",
    "import seaborn as sns"
   ]
  },
  {
   "cell_type": "code",
   "execution_count": 2,
   "id": "1fea3da2",
   "metadata": {},
   "outputs": [],
   "source": [
    "# Import the raw data into the programme and save as a Pandas dataframe to allow tabular visualisation\n",
    "dataFile = pd.read_csv('..\\MotorPremiums.csv')"
   ]
  },
  {
   "cell_type": "code",
   "execution_count": 3,
   "id": "8e131bdc",
   "metadata": {},
   "outputs": [
    {
     "name": "stdout",
     "output_type": "stream",
     "text": [
      "<class 'pandas.core.frame.DataFrame'>\n",
      "RangeIndex: 4387 entries, 0 to 4386\n",
      "Data columns (total 12 columns):\n",
      " #   Column          Non-Null Count  Dtype  \n",
      "---  ------          --------------  -----  \n",
      " 0   ID              4387 non-null   object \n",
      " 1   Age             4387 non-null   int64  \n",
      " 2   Gender          4387 non-null   object \n",
      " 3   LicenceCountry  4387 non-null   object \n",
      " 4   Yrs DL          4387 non-null   int64  \n",
      " 5   Points          4387 non-null   int64  \n",
      " 6   NCD             4387 non-null   int64  \n",
      " 7   Engine cc       4387 non-null   int64  \n",
      " 8   Ins Group       4387 non-null   int64  \n",
      " 9   Stored          4387 non-null   object \n",
      " 10  Car Age         4387 non-null   int64  \n",
      " 11  Premium         4387 non-null   float64\n",
      "dtypes: float64(1), int64(7), object(4)\n",
      "memory usage: 411.4+ KB\n"
     ]
    }
   ],
   "source": [
    "# Visualise data information, which includes the data type of each field\n",
    "dataFile.info()"
   ]
  },
  {
   "cell_type": "code",
   "execution_count": 4,
   "id": "d56946f1",
   "metadata": {},
   "outputs": [
    {
     "data": {
      "text/html": [
       "<div>\n",
       "<style scoped>\n",
       "    .dataframe tbody tr th:only-of-type {\n",
       "        vertical-align: middle;\n",
       "    }\n",
       "\n",
       "    .dataframe tbody tr th {\n",
       "        vertical-align: top;\n",
       "    }\n",
       "\n",
       "    .dataframe thead th {\n",
       "        text-align: right;\n",
       "    }\n",
       "</style>\n",
       "<table border=\"1\" class=\"dataframe\">\n",
       "  <thead>\n",
       "    <tr style=\"text-align: right;\">\n",
       "      <th></th>\n",
       "      <th>ID</th>\n",
       "      <th>Age</th>\n",
       "      <th>Gender</th>\n",
       "      <th>LicenceCountry</th>\n",
       "      <th>Yrs DL</th>\n",
       "      <th>Points</th>\n",
       "      <th>NCD</th>\n",
       "      <th>Engine cc</th>\n",
       "      <th>Ins Group</th>\n",
       "      <th>Stored</th>\n",
       "      <th>Car Age</th>\n",
       "      <th>Premium</th>\n",
       "    </tr>\n",
       "  </thead>\n",
       "  <tbody>\n",
       "    <tr>\n",
       "      <th>0</th>\n",
       "      <td>B69193007</td>\n",
       "      <td>52</td>\n",
       "      <td>M</td>\n",
       "      <td>UK</td>\n",
       "      <td>16</td>\n",
       "      <td>0</td>\n",
       "      <td>0</td>\n",
       "      <td>1200</td>\n",
       "      <td>4</td>\n",
       "      <td>Garage</td>\n",
       "      <td>2</td>\n",
       "      <td>195.32</td>\n",
       "    </tr>\n",
       "    <tr>\n",
       "      <th>1</th>\n",
       "      <td>B58763002</td>\n",
       "      <td>46</td>\n",
       "      <td>F</td>\n",
       "      <td>UK</td>\n",
       "      <td>22</td>\n",
       "      <td>8</td>\n",
       "      <td>1</td>\n",
       "      <td>1400</td>\n",
       "      <td>2</td>\n",
       "      <td>Garage</td>\n",
       "      <td>7</td>\n",
       "      <td>225.09</td>\n",
       "    </tr>\n",
       "    <tr>\n",
       "      <th>2</th>\n",
       "      <td>A57010377</td>\n",
       "      <td>59</td>\n",
       "      <td>F</td>\n",
       "      <td>UK</td>\n",
       "      <td>9</td>\n",
       "      <td>0</td>\n",
       "      <td>0</td>\n",
       "      <td>1400</td>\n",
       "      <td>5</td>\n",
       "      <td>Garage</td>\n",
       "      <td>14</td>\n",
       "      <td>201.08</td>\n",
       "    </tr>\n",
       "    <tr>\n",
       "      <th>3</th>\n",
       "      <td>B61470950</td>\n",
       "      <td>62</td>\n",
       "      <td>M</td>\n",
       "      <td>UK</td>\n",
       "      <td>35</td>\n",
       "      <td>0</td>\n",
       "      <td>0</td>\n",
       "      <td>1400</td>\n",
       "      <td>4</td>\n",
       "      <td>0</td>\n",
       "      <td>12</td>\n",
       "      <td>211.76</td>\n",
       "    </tr>\n",
       "    <tr>\n",
       "      <th>4</th>\n",
       "      <td>B43586226</td>\n",
       "      <td>59</td>\n",
       "      <td>F</td>\n",
       "      <td>UK</td>\n",
       "      <td>3</td>\n",
       "      <td>0</td>\n",
       "      <td>4</td>\n",
       "      <td>1400</td>\n",
       "      <td>5</td>\n",
       "      <td>Road</td>\n",
       "      <td>13</td>\n",
       "      <td>251.49</td>\n",
       "    </tr>\n",
       "  </tbody>\n",
       "</table>\n",
       "</div>"
      ],
      "text/plain": [
       "          ID  Age Gender LicenceCountry  Yrs DL  Points  NCD  Engine cc  \\\n",
       "0  B69193007   52      M             UK      16       0    0       1200   \n",
       "1  B58763002   46      F             UK      22       8    1       1400   \n",
       "2  A57010377   59      F             UK       9       0    0       1400   \n",
       "3  B61470950   62      M             UK      35       0    0       1400   \n",
       "4  B43586226   59      F             UK       3       0    4       1400   \n",
       "\n",
       "   Ins Group  Stored  Car Age  Premium  \n",
       "0          4  Garage        2   195.32  \n",
       "1          2  Garage        7   225.09  \n",
       "2          5  Garage       14   201.08  \n",
       "3          4       0       12   211.76  \n",
       "4          5    Road       13   251.49  "
      ]
     },
     "execution_count": 4,
     "metadata": {},
     "output_type": "execute_result"
    }
   ],
   "source": [
    "#Visualise the data in tabular format and assess if you agree with the data types\n",
    "dataFile.head()"
   ]
  },
  {
   "cell_type": "code",
   "execution_count": 5,
   "id": "87961283",
   "metadata": {},
   "outputs": [
    {
     "data": {
      "text/html": [
       "<div>\n",
       "<style scoped>\n",
       "    .dataframe tbody tr th:only-of-type {\n",
       "        vertical-align: middle;\n",
       "    }\n",
       "\n",
       "    .dataframe tbody tr th {\n",
       "        vertical-align: top;\n",
       "    }\n",
       "\n",
       "    .dataframe thead th {\n",
       "        text-align: right;\n",
       "    }\n",
       "</style>\n",
       "<table border=\"1\" class=\"dataframe\">\n",
       "  <thead>\n",
       "    <tr style=\"text-align: right;\">\n",
       "      <th></th>\n",
       "      <th>Age</th>\n",
       "      <th>Yrs DL</th>\n",
       "      <th>Points</th>\n",
       "      <th>NCD</th>\n",
       "      <th>Engine cc</th>\n",
       "      <th>Ins Group</th>\n",
       "      <th>Car Age</th>\n",
       "      <th>Premium</th>\n",
       "    </tr>\n",
       "  </thead>\n",
       "  <tbody>\n",
       "    <tr>\n",
       "      <th>Age</th>\n",
       "      <td>1.000000</td>\n",
       "      <td>0.639519</td>\n",
       "      <td>0.024085</td>\n",
       "      <td>-0.004407</td>\n",
       "      <td>0.013961</td>\n",
       "      <td>-0.021256</td>\n",
       "      <td>0.019851</td>\n",
       "      <td>0.402763</td>\n",
       "    </tr>\n",
       "    <tr>\n",
       "      <th>Yrs DL</th>\n",
       "      <td>0.639519</td>\n",
       "      <td>1.000000</td>\n",
       "      <td>0.006567</td>\n",
       "      <td>0.001876</td>\n",
       "      <td>0.009164</td>\n",
       "      <td>-0.019748</td>\n",
       "      <td>0.022919</td>\n",
       "      <td>0.442921</td>\n",
       "    </tr>\n",
       "    <tr>\n",
       "      <th>Points</th>\n",
       "      <td>0.024085</td>\n",
       "      <td>0.006567</td>\n",
       "      <td>1.000000</td>\n",
       "      <td>-0.017312</td>\n",
       "      <td>0.007375</td>\n",
       "      <td>-0.023043</td>\n",
       "      <td>-0.006144</td>\n",
       "      <td>0.330168</td>\n",
       "    </tr>\n",
       "    <tr>\n",
       "      <th>NCD</th>\n",
       "      <td>-0.004407</td>\n",
       "      <td>0.001876</td>\n",
       "      <td>-0.017312</td>\n",
       "      <td>1.000000</td>\n",
       "      <td>0.009170</td>\n",
       "      <td>0.004559</td>\n",
       "      <td>-0.025132</td>\n",
       "      <td>0.634157</td>\n",
       "    </tr>\n",
       "    <tr>\n",
       "      <th>Engine cc</th>\n",
       "      <td>0.013961</td>\n",
       "      <td>0.009164</td>\n",
       "      <td>0.007375</td>\n",
       "      <td>0.009170</td>\n",
       "      <td>1.000000</td>\n",
       "      <td>0.230337</td>\n",
       "      <td>-0.016065</td>\n",
       "      <td>0.085644</td>\n",
       "    </tr>\n",
       "    <tr>\n",
       "      <th>Ins Group</th>\n",
       "      <td>-0.021256</td>\n",
       "      <td>-0.019748</td>\n",
       "      <td>-0.023043</td>\n",
       "      <td>0.004559</td>\n",
       "      <td>0.230337</td>\n",
       "      <td>1.000000</td>\n",
       "      <td>0.013587</td>\n",
       "      <td>0.211748</td>\n",
       "    </tr>\n",
       "    <tr>\n",
       "      <th>Car Age</th>\n",
       "      <td>0.019851</td>\n",
       "      <td>0.022919</td>\n",
       "      <td>-0.006144</td>\n",
       "      <td>-0.025132</td>\n",
       "      <td>-0.016065</td>\n",
       "      <td>0.013587</td>\n",
       "      <td>1.000000</td>\n",
       "      <td>0.171124</td>\n",
       "    </tr>\n",
       "    <tr>\n",
       "      <th>Premium</th>\n",
       "      <td>0.402763</td>\n",
       "      <td>0.442921</td>\n",
       "      <td>0.330168</td>\n",
       "      <td>0.634157</td>\n",
       "      <td>0.085644</td>\n",
       "      <td>0.211748</td>\n",
       "      <td>0.171124</td>\n",
       "      <td>1.000000</td>\n",
       "    </tr>\n",
       "  </tbody>\n",
       "</table>\n",
       "</div>"
      ],
      "text/plain": [
       "                Age    Yrs DL    Points       NCD  Engine cc  Ins Group  \\\n",
       "Age        1.000000  0.639519  0.024085 -0.004407   0.013961  -0.021256   \n",
       "Yrs DL     0.639519  1.000000  0.006567  0.001876   0.009164  -0.019748   \n",
       "Points     0.024085  0.006567  1.000000 -0.017312   0.007375  -0.023043   \n",
       "NCD       -0.004407  0.001876 -0.017312  1.000000   0.009170   0.004559   \n",
       "Engine cc  0.013961  0.009164  0.007375  0.009170   1.000000   0.230337   \n",
       "Ins Group -0.021256 -0.019748 -0.023043  0.004559   0.230337   1.000000   \n",
       "Car Age    0.019851  0.022919 -0.006144 -0.025132  -0.016065   0.013587   \n",
       "Premium    0.402763  0.442921  0.330168  0.634157   0.085644   0.211748   \n",
       "\n",
       "            Car Age   Premium  \n",
       "Age        0.019851  0.402763  \n",
       "Yrs DL     0.022919  0.442921  \n",
       "Points    -0.006144  0.330168  \n",
       "NCD       -0.025132  0.634157  \n",
       "Engine cc -0.016065  0.085644  \n",
       "Ins Group  0.013587  0.211748  \n",
       "Car Age    1.000000  0.171124  \n",
       "Premium    0.171124  1.000000  "
      ]
     },
     "execution_count": 5,
     "metadata": {},
     "output_type": "execute_result"
    }
   ],
   "source": [
    "# Visualise the correlation coefficient between the different variables\n",
    "dataFile.corr()"
   ]
  },
  {
   "cell_type": "markdown",
   "id": "0942c527",
   "metadata": {},
   "source": [
    "Using histograms, the below code visualises the distribution of numerical variables"
   ]
  },
  {
   "cell_type": "code",
   "execution_count": 6,
   "id": "a1c6a746",
   "metadata": {},
   "outputs": [
    {
     "data": {
      "text/plain": [
       "array([[<AxesSubplot:title={'center':'Age'}>,\n",
       "        <AxesSubplot:title={'center':'Yrs DL'}>],\n",
       "       [<AxesSubplot:title={'center':'Points'}>,\n",
       "        <AxesSubplot:title={'center':'NCD'}>],\n",
       "       [<AxesSubplot:title={'center':'Engine cc'}>,\n",
       "        <AxesSubplot:title={'center':'Ins Group'}>],\n",
       "       [<AxesSubplot:title={'center':'Car Age'}>,\n",
       "        <AxesSubplot:title={'center':'Premium'}>]], dtype=object)"
      ]
     },
     "execution_count": 6,
     "metadata": {},
     "output_type": "execute_result"
    },
    {
     "data": {
      "image/png": "[encoded data removed]",
      "text/plain": [
       "<Figure size 576x720 with 8 Axes>"
      ]
     },
     "metadata": {
      "needs_background": "light"
     },
     "output_type": "display_data"
    }
   ],
   "source": [
    "#Define the number of subplots (4 rows with 2 columns) to plot all the 8 numerical variables\n",
    "fig, axis = plt.subplots(4,2, figsize=(8,10))\n",
    "\n",
    "#create histogram for each column in DataFrame\n",
    "dataFile.hist(ax=axis)"
   ]
  },
  {
   "cell_type": "markdown",
   "id": "dc6cedd4",
   "metadata": {},
   "source": [
    "Using bar plots, the below code visualises the distribution of categorical variables"
   ]
  },
  {
   "cell_type": "code",
   "execution_count": 7,
   "id": "4c9d1fbd",
   "metadata": {},
   "outputs": [
    {
     "data": {
      "text/plain": [
       "<AxesSubplot:>"
      ]
     },
     "execution_count": 7,
     "metadata": {},
     "output_type": "execute_result"
    },
    {
     "data": {
      "image/png": "[encoded data removed]",
      "text/plain": [
       "<Figure size 1080x216 with 3 Axes>"
      ]
     },
     "metadata": {
      "needs_background": "light"
     },
     "output_type": "display_data"
    }
   ],
   "source": [
    "fig, axes = plt.subplots(1, 3, figsize=(15,3))\n",
    "dataFile['Gender'].value_counts().plot(ax=axes[0], kind='bar')\n",
    "dataFile['LicenceCountry'].value_counts().plot(ax=axes[1], kind='bar')\n",
    "dataFile['Stored'].value_counts().plot(ax=axes[2], kind='bar')"
   ]
  },
  {
   "cell_type": "markdown",
   "id": "c96037c8",
   "metadata": {},
   "source": [
    "## Basic Data Cleaning"
   ]
  },
  {
   "cell_type": "markdown",
   "id": "ea650fab",
   "metadata": {},
   "source": [
    "In the below steps, 3 changes have been performed: <br>\n",
    "- The Gender column has been fixed on typos where Female is set to F and Male is set to M.\n",
    "- The dataset has been filtered to only values where LicenceCountry is equal to \"UK\".\n",
    "- The dataset has been filtered out any values where Stored is equal to \"0\"."
   ]
  },
  {
   "cell_type": "code",
   "execution_count": 8,
   "id": "45f278e3",
   "metadata": {},
   "outputs": [],
   "source": [
    "dataFile['Gender'] = np.where(dataFile['Gender']==\"Female\", \"F\",\n",
    "                             np.where(dataFile['Gender']==\"Male\", \"M\", dataFile['Gender']))"
   ]
  },
  {
   "cell_type": "code",
   "execution_count": 9,
   "id": "523c68e7",
   "metadata": {},
   "outputs": [],
   "source": [
    "dataFile = dataFile[dataFile.LicenceCountry=='UK']\n",
    "dataFile = dataFile[dataFile.Stored!='0']"
   ]
  },
  {
   "cell_type": "code",
   "execution_count": 10,
   "id": "5e99be7a",
   "metadata": {},
   "outputs": [
    {
     "data": {
      "text/plain": [
       "<AxesSubplot:>"
      ]
     },
     "execution_count": 10,
     "metadata": {},
     "output_type": "execute_result"
    },
    {
     "data": {
      "image/png": "[encoded data removed]",
      "text/plain": [
       "<Figure size 1080x216 with 3 Axes>"
      ]
     },
     "metadata": {
      "needs_background": "light"
     },
     "output_type": "display_data"
    }
   ],
   "source": [
    "fig, axes = plt.subplots(1, 3, figsize=(15,3))\n",
    "dataFile['Gender'].value_counts().plot(ax=axes[0], kind='bar')\n",
    "dataFile['LicenceCountry'].value_counts().plot(ax=axes[1], kind='bar')\n",
    "dataFile['Stored'].value_counts().plot(ax=axes[2], kind='bar')"
   ]
  },
  {
   "cell_type": "markdown",
   "id": "04df1ce8",
   "metadata": {},
   "source": [
    "Below, ID is removed from the data as this is not relevant to the model.<br>\n",
    "LicenceCountry feature is also removed as after the intial cleaning, the column had standard deviation of 0, with all values being \"UK\"."
   ]
  },
  {
   "cell_type": "code",
   "execution_count": 11,
   "id": "13c59513",
   "metadata": {},
   "outputs": [],
   "source": [
    "# Drop IDs as this is irrelant\n",
    "dataFile = dataFile.drop([\"ID\",\"LicenceCountry\"], axis='columns')"
   ]
  },
  {
   "cell_type": "markdown",
   "id": "8cc385f8",
   "metadata": {},
   "source": [
    "In the following step we apply one-hot encoding to the categorical features of the dataset so the data is ready to be fitted to the model."
   ]
  },
  {
   "cell_type": "code",
   "execution_count": 14,
   "id": "3711e888",
   "metadata": {},
   "outputs": [
    {
     "data": {
      "text/html": [
       "<div>\n",
       "<style scoped>\n",
       "    .dataframe tbody tr th:only-of-type {\n",
       "        vertical-align: middle;\n",
       "    }\n",
       "\n",
       "    .dataframe tbody tr th {\n",
       "        vertical-align: top;\n",
       "    }\n",
       "\n",
       "    .dataframe thead th {\n",
       "        text-align: right;\n",
       "    }\n",
       "</style>\n",
       "<table border=\"1\" class=\"dataframe\">\n",
       "  <thead>\n",
       "    <tr style=\"text-align: right;\">\n",
       "      <th></th>\n",
       "      <th>Age</th>\n",
       "      <th>Yrs DL</th>\n",
       "      <th>Points</th>\n",
       "      <th>NCD</th>\n",
       "      <th>Engine cc</th>\n",
       "      <th>Ins Group</th>\n",
       "      <th>Car Age</th>\n",
       "      <th>Premium</th>\n",
       "      <th>Gender_F</th>\n",
       "      <th>Gender_M</th>\n",
       "      <th>Stored_Drive</th>\n",
       "      <th>Stored_Garage</th>\n",
       "      <th>Stored_Road</th>\n",
       "    </tr>\n",
       "  </thead>\n",
       "  <tbody>\n",
       "    <tr>\n",
       "      <th>0</th>\n",
       "      <td>52</td>\n",
       "      <td>16</td>\n",
       "      <td>0</td>\n",
       "      <td>0</td>\n",
       "      <td>1200</td>\n",
       "      <td>4</td>\n",
       "      <td>2</td>\n",
       "      <td>195.32</td>\n",
       "      <td>0</td>\n",
       "      <td>1</td>\n",
       "      <td>0</td>\n",
       "      <td>1</td>\n",
       "      <td>0</td>\n",
       "    </tr>\n",
       "    <tr>\n",
       "      <th>1</th>\n",
       "      <td>46</td>\n",
       "      <td>22</td>\n",
       "      <td>8</td>\n",
       "      <td>1</td>\n",
       "      <td>1400</td>\n",
       "      <td>2</td>\n",
       "      <td>7</td>\n",
       "      <td>225.09</td>\n",
       "      <td>1</td>\n",
       "      <td>0</td>\n",
       "      <td>0</td>\n",
       "      <td>1</td>\n",
       "      <td>0</td>\n",
       "    </tr>\n",
       "    <tr>\n",
       "      <th>2</th>\n",
       "      <td>59</td>\n",
       "      <td>9</td>\n",
       "      <td>0</td>\n",
       "      <td>0</td>\n",
       "      <td>1400</td>\n",
       "      <td>5</td>\n",
       "      <td>14</td>\n",
       "      <td>201.08</td>\n",
       "      <td>1</td>\n",
       "      <td>0</td>\n",
       "      <td>0</td>\n",
       "      <td>1</td>\n",
       "      <td>0</td>\n",
       "    </tr>\n",
       "    <tr>\n",
       "      <th>4</th>\n",
       "      <td>59</td>\n",
       "      <td>3</td>\n",
       "      <td>0</td>\n",
       "      <td>4</td>\n",
       "      <td>1400</td>\n",
       "      <td>5</td>\n",
       "      <td>13</td>\n",
       "      <td>251.49</td>\n",
       "      <td>1</td>\n",
       "      <td>0</td>\n",
       "      <td>0</td>\n",
       "      <td>0</td>\n",
       "      <td>1</td>\n",
       "    </tr>\n",
       "    <tr>\n",
       "      <th>5</th>\n",
       "      <td>78</td>\n",
       "      <td>57</td>\n",
       "      <td>4</td>\n",
       "      <td>1</td>\n",
       "      <td>1800</td>\n",
       "      <td>3</td>\n",
       "      <td>1</td>\n",
       "      <td>229.46</td>\n",
       "      <td>0</td>\n",
       "      <td>1</td>\n",
       "      <td>0</td>\n",
       "      <td>1</td>\n",
       "      <td>0</td>\n",
       "    </tr>\n",
       "    <tr>\n",
       "      <th>...</th>\n",
       "      <td>...</td>\n",
       "      <td>...</td>\n",
       "      <td>...</td>\n",
       "      <td>...</td>\n",
       "      <td>...</td>\n",
       "      <td>...</td>\n",
       "      <td>...</td>\n",
       "      <td>...</td>\n",
       "      <td>...</td>\n",
       "      <td>...</td>\n",
       "      <td>...</td>\n",
       "      <td>...</td>\n",
       "      <td>...</td>\n",
       "    </tr>\n",
       "    <tr>\n",
       "      <th>4382</th>\n",
       "      <td>28</td>\n",
       "      <td>8</td>\n",
       "      <td>0</td>\n",
       "      <td>3</td>\n",
       "      <td>1200</td>\n",
       "      <td>4</td>\n",
       "      <td>1</td>\n",
       "      <td>214.03</td>\n",
       "      <td>0</td>\n",
       "      <td>1</td>\n",
       "      <td>0</td>\n",
       "      <td>1</td>\n",
       "      <td>0</td>\n",
       "    </tr>\n",
       "    <tr>\n",
       "      <th>4383</th>\n",
       "      <td>76</td>\n",
       "      <td>41</td>\n",
       "      <td>0</td>\n",
       "      <td>4</td>\n",
       "      <td>1600</td>\n",
       "      <td>5</td>\n",
       "      <td>1</td>\n",
       "      <td>265.50</td>\n",
       "      <td>1</td>\n",
       "      <td>0</td>\n",
       "      <td>0</td>\n",
       "      <td>0</td>\n",
       "      <td>1</td>\n",
       "    </tr>\n",
       "    <tr>\n",
       "      <th>4384</th>\n",
       "      <td>50</td>\n",
       "      <td>32</td>\n",
       "      <td>0</td>\n",
       "      <td>4</td>\n",
       "      <td>1200</td>\n",
       "      <td>2</td>\n",
       "      <td>1</td>\n",
       "      <td>250.51</td>\n",
       "      <td>0</td>\n",
       "      <td>1</td>\n",
       "      <td>0</td>\n",
       "      <td>0</td>\n",
       "      <td>1</td>\n",
       "    </tr>\n",
       "    <tr>\n",
       "      <th>4385</th>\n",
       "      <td>36</td>\n",
       "      <td>12</td>\n",
       "      <td>8</td>\n",
       "      <td>3</td>\n",
       "      <td>1200</td>\n",
       "      <td>5</td>\n",
       "      <td>1</td>\n",
       "      <td>264.92</td>\n",
       "      <td>1</td>\n",
       "      <td>0</td>\n",
       "      <td>0</td>\n",
       "      <td>0</td>\n",
       "      <td>1</td>\n",
       "    </tr>\n",
       "    <tr>\n",
       "      <th>4386</th>\n",
       "      <td>36</td>\n",
       "      <td>2</td>\n",
       "      <td>0</td>\n",
       "      <td>3</td>\n",
       "      <td>1200</td>\n",
       "      <td>4</td>\n",
       "      <td>1</td>\n",
       "      <td>208.95</td>\n",
       "      <td>1</td>\n",
       "      <td>0</td>\n",
       "      <td>1</td>\n",
       "      <td>0</td>\n",
       "      <td>0</td>\n",
       "    </tr>\n",
       "  </tbody>\n",
       "</table>\n",
       "<p>4374 rows × 13 columns</p>\n",
       "</div>"
      ],
      "text/plain": [
       "      Age  Yrs DL  Points  NCD  Engine cc  Ins Group  Car Age  Premium  \\\n",
       "0      52      16       0    0       1200          4        2   195.32   \n",
       "1      46      22       8    1       1400          2        7   225.09   \n",
       "2      59       9       0    0       1400          5       14   201.08   \n",
       "4      59       3       0    4       1400          5       13   251.49   \n",
       "5      78      57       4    1       1800          3        1   229.46   \n",
       "...   ...     ...     ...  ...        ...        ...      ...      ...   \n",
       "4382   28       8       0    3       1200          4        1   214.03   \n",
       "4383   76      41       0    4       1600          5        1   265.50   \n",
       "4384   50      32       0    4       1200          2        1   250.51   \n",
       "4385   36      12       8    3       1200          5        1   264.92   \n",
       "4386   36       2       0    3       1200          4        1   208.95   \n",
       "\n",
       "      Gender_F  Gender_M  Stored_Drive  Stored_Garage  Stored_Road  \n",
       "0            0         1             0              1            0  \n",
       "1            1         0             0              1            0  \n",
       "2            1         0             0              1            0  \n",
       "4            1         0             0              0            1  \n",
       "5            0         1             0              1            0  \n",
       "...        ...       ...           ...            ...          ...  \n",
       "4382         0         1             0              1            0  \n",
       "4383         1         0             0              0            1  \n",
       "4384         0         1             0              0            1  \n",
       "4385         1         0             0              0            1  \n",
       "4386         1         0             1              0            0  \n",
       "\n",
       "[4374 rows x 13 columns]"
      ]
     },
     "execution_count": 14,
     "metadata": {},
     "output_type": "execute_result"
    }
   ],
   "source": [
    "# Implement One Hot Encoding to the data\n",
    "dataFile_encoded = pd.get_dummies(dataFile, columns = ['Gender', 'Stored'])\n",
    "dataFile_encoded"
   ]
  },
  {
   "cell_type": "markdown",
   "id": "ee6df877",
   "metadata": {},
   "source": [
    "## Define the Target column and separate from rest of the dataset"
   ]
  },
  {
   "cell_type": "markdown",
   "id": "6266b5e0",
   "metadata": {},
   "source": [
    "Define the target variable (column Premium) and features to be used for training the model (all other columns except target column)"
   ]
  },
  {
   "cell_type": "code",
   "execution_count": 15,
   "id": "16bad7f3",
   "metadata": {},
   "outputs": [],
   "source": [
    "target_column = 'Premium'\n",
    "X = dataFile_encoded.drop(columns=[target_column])\n",
    "y = dataFile_encoded[target_column]"
   ]
  },
  {
   "cell_type": "markdown",
   "id": "1bdcebb9",
   "metadata": {},
   "source": [
    "## Split dataset into Training, Validation and Test Subsets"
   ]
  },
  {
   "cell_type": "markdown",
   "id": "db7419c8",
   "metadata": {},
   "source": [
    "The next step is then to split the training, validation and testing data. We first separate training and testing, then further subsegment the training into final training subset and validation subset."
   ]
  },
  {
   "cell_type": "code",
   "execution_count": 16,
   "id": "dc1c0f64",
   "metadata": {},
   "outputs": [],
   "source": [
    "# Split the data into training (80%) and test (20%) sets\n",
    "train_data, test_data, train_labels, test_labels = train_test_split(X, y, test_size=0.2, random_state=42)"
   ]
  },
  {
   "cell_type": "code",
   "execution_count": 17,
   "id": "c6d4de31",
   "metadata": {},
   "outputs": [
    {
     "name": "stdout",
     "output_type": "stream",
     "text": [
      "Training Set number of rows:  2799\n",
      "Validation Set number of rows:  700\n",
      "Test Set number of rows:  875\n"
     ]
    }
   ],
   "source": [
    "# Further split the training set into training and validation sets (80% training, 20% validation)\n",
    "final_train_data, validation_data, final_train_labels, validation_labels = train_test_split(train_data, train_labels, \n",
    "                                                                                            test_size=0.2, random_state=42)\n",
    "\n",
    "print(\"Training Set number of rows: \",len(final_train_data))\n",
    "print(\"Validation Set number of rows: \",len(validation_data))\n",
    "print(\"Test Set number of rows: \",len(test_data))"
   ]
  },
  {
   "cell_type": "markdown",
   "id": "3be39f36",
   "metadata": {},
   "source": [
    "## Definition of Hyperparameters and Training of the Model"
   ]
  },
  {
   "cell_type": "code",
   "execution_count": 18,
   "id": "e0b3515b",
   "metadata": {},
   "outputs": [
    {
     "data": {
      "text/plain": [
       "MLPRegressor(max_iter=500, random_state=42)"
      ]
     },
     "execution_count": 18,
     "metadata": {},
     "output_type": "execute_result"
    }
   ],
   "source": [
    "nn_model = MLPRegressor(hidden_layer_sizes=(100,), max_iter=500, random_state=42)\n",
    "nn_model.fit(final_train_data, final_train_labels)"
   ]
  },
  {
   "cell_type": "markdown",
   "id": "83af11b1",
   "metadata": {},
   "source": [
    "## Make predictions on validation data"
   ]
  },
  {
   "cell_type": "code",
   "execution_count": 19,
   "id": "5b7eac89",
   "metadata": {},
   "outputs": [],
   "source": [
    "validation_predictions = nn_model.predict(validation_data)"
   ]
  },
  {
   "cell_type": "code",
   "execution_count": 20,
   "id": "9fb558c8",
   "metadata": {},
   "outputs": [
    {
     "name": "stdout",
     "output_type": "stream",
     "text": [
      "Mean Squared Error on Validation Set: 10.29\n",
      "R^2 Score on Validation Set: 0.98\n",
      "\n",
      "Validation Predictions:\n",
      "[253.51921352 180.47848543 302.80261759 227.90313431 208.67948825\n",
      " 210.09876057 226.63823238 201.73511906 237.71986597 233.68933645\n",
      " 230.92924296 218.33884759 214.99276035 217.66608453 251.44114553\n",
      " 200.59966546 205.53192333 212.05640514 182.44292107 246.30533725\n",
      " 213.16004725 243.7217009  186.23884175 230.18789499 220.45879988\n",
      " 200.70981863 198.0551369  206.95212413 235.49017801 196.65411417\n",
      " 246.6117247  228.28056711 249.53206058 237.59939256 246.66443436\n",
      " 220.06020915 237.21312431 222.01390875 197.82912831 208.44483425\n",
      " 203.14100568 230.92713935 212.39758979 207.04342421 217.9044363\n",
      " 225.80410801 194.03468634 198.02975188 207.91331133 194.29073427\n",
      " 207.38740406 253.11260692 238.67009843 226.39353601 186.27925791\n",
      " 223.74894718 198.43997648 211.963156   228.56740525 253.75414593\n",
      " 206.79848676 195.9526861  171.09755431 210.20376301 189.82353698\n",
      " 253.29138905 209.46382786 233.44903577 219.84303092 213.51956208\n",
      " 237.09423793 228.37717845 168.30354253 211.23213283 173.88504804\n",
      " 190.82613667 230.3564405  224.2819098  242.13313771 223.72082291\n",
      " 251.58969434 229.03990353 232.04940704 207.93590937 218.65242965\n",
      " 232.17367528 207.58924113 198.43320676 224.56160852 233.85507947\n",
      " 235.39160874 191.70397615 220.93370794 182.19919777 198.18580421\n",
      " 249.02429139 210.7622709  190.26596634 241.34419602 182.66916234\n",
      " 252.75825508 205.44383406 269.22092325 223.94657192 198.20430825\n",
      " 210.32851406 192.46790502 259.76799209 220.1394459  230.64849719\n",
      " 230.14509552 215.6336943  262.25067048 212.2864572  254.44699524\n",
      " 183.59421442 183.27596277 212.06791145 211.06127493 230.67101891\n",
      " 222.42127424 224.63331549 234.18697959 248.33190976 204.69654725\n",
      " 198.43127403 201.28848177 222.43126681 203.931573   223.47258482\n",
      " 206.30250625 227.7240797  200.19487506 231.85930599 218.78345158\n",
      " 232.03885713 186.48492036 219.31751445 245.27890338 239.1590985\n",
      " 198.98700483 223.29080739 200.69044656 230.64487187 175.74246628\n",
      " 217.46039306 232.50641772 224.22665852 240.50565913 188.28332582\n",
      " 239.27308973 215.56207631 202.69656813 243.45490661 227.89029421\n",
      " 222.59118436 173.49739658 198.94351409 230.3322417  203.10577498\n",
      " 220.11493914 205.11832244 265.23736973 206.53044671 242.87591778\n",
      " 209.94778167 215.38892697 219.20996508 189.32619049 197.00128948\n",
      " 244.18503604 208.04147191 224.2278075  268.53019219 246.3547478\n",
      " 213.97420593 221.75500021 220.35042534 237.31823777 205.23102322\n",
      " 213.03007579 208.37433384 168.75811788 247.36892731 222.5481769\n",
      " 261.1964728  225.73575158 209.47598048 257.40708039 231.63814929\n",
      " 200.86332747 223.63188781 205.51703743 232.79132522 216.51663119\n",
      " 203.86743852 256.40595304 205.96405295 232.42537056 226.25952704\n",
      " 204.02888824 215.82340795 220.65224852 195.84892825 208.92014079\n",
      " 234.03888063 216.94182673 223.82123911 214.17817401 229.28363525\n",
      " 198.00738829 201.24461854 254.9663455  215.41895477 167.18419531\n",
      " 227.02550657 211.24303716 252.69816181 241.23339633 248.57370639\n",
      " 216.82065917 225.24157775 204.0683681  231.61018886 247.40867843\n",
      " 193.84095096 211.09744821 219.58533933 187.31329241 232.95306937\n",
      " 256.14687817 235.50075481 238.96550005 252.76059497 213.72622719\n",
      " 216.97375567 247.03202225 218.06744458 192.40190799 222.52784276\n",
      " 195.74686375 256.10802636 194.2637296  213.8990339  247.14521107\n",
      " 255.68012657 225.63349035 220.36910802 222.86353976 227.9659394\n",
      " 242.8930683  228.4761532  195.54718978 196.87862892 176.77209468\n",
      " 219.4909233  184.51963152 235.83348785 209.34253054 212.04267559\n",
      " 176.30240799 209.77444439 199.96494359 199.29918825 213.09328645\n",
      " 222.41403584 205.41125399 221.3024178  244.83148667 256.73636583\n",
      " 193.47980644 227.03666274 186.69822803 212.46895783 216.90580113\n",
      " 240.95838159 206.89177806 224.22604495 209.97467526 253.07009323\n",
      " 223.34585712 223.58794698 243.80232816 253.93265892 200.19184097\n",
      " 216.46158645 228.35821721 247.29128765 277.74583251 244.02921988\n",
      " 247.39563554 257.06038166 219.72457287 245.91413832 205.67399217\n",
      " 223.63410321 178.22735803 197.62624173 188.55366931 214.28437784\n",
      " 261.6608297  245.35333143 257.0539136  185.63931443 241.16840048\n",
      " 227.59294855 197.67355096 177.8954342  202.0394902  224.69578514\n",
      " 214.62122314 243.9780675  229.31914815 211.011453   223.87891793\n",
      " 249.82102138 209.10862155 247.75758172 252.27792459 217.8022061\n",
      " 234.62375941 229.10166167 246.10912037 253.46981457 222.74627016\n",
      " 194.70676504 226.812887   258.5905054  214.18961185 191.43129052\n",
      " 212.24465637 207.76845154 205.51627222 197.81221176 217.95103325\n",
      " 232.37205277 259.398431   232.15569229 221.44220562 231.10340408\n",
      " 249.07224771 201.19039151 212.35387911 216.5765035  220.26841182\n",
      " 236.53597315 198.95511769 254.52865367 202.28477804 263.49649857\n",
      " 189.28829868 221.29918847 229.94140866 246.6427093  239.52657023\n",
      " 209.463521   195.19581836 237.86305031 185.18588223 203.89839739\n",
      " 219.21422987 231.00821704 239.79662606 229.21094413 202.03489132\n",
      " 205.3100988  168.29039544 227.2435582  209.84551438 200.86990323\n",
      " 198.29804318 207.94066019 264.36015686 213.88359794 208.04696986\n",
      " 200.47725282 241.99102791 210.54638371 182.578321   217.8441895\n",
      " 222.36448158 205.59526771 230.20527079 213.00803101 251.1164086\n",
      " 225.38908267 231.15323865 227.29324956 208.1980049  195.50763174\n",
      " 271.37057556 211.90723995 231.85562029 210.62938732 188.75018321\n",
      " 195.74572749 216.8774587  252.5115734  227.47215283 219.87644606\n",
      " 212.11083137 233.72215112 209.49867039 246.98190357 261.535476\n",
      " 230.31320864 200.6162739  167.21160159 192.24853792 196.94860666\n",
      " 227.22692948 180.70594672 223.22501852 236.53564829 230.39494176\n",
      " 219.19532595 221.54438371 218.8581613  220.23497938 245.19039531\n",
      " 223.70785126 246.2235901  216.81092339 239.04884434 206.13907421\n",
      " 215.28110777 231.66360757 209.00354213 207.88127296 189.93050411\n",
      " 213.41400286 192.96357563 258.33575116 212.37866684 213.72994062\n",
      " 209.87021847 224.40816507 205.93755905 190.75084847 228.14758503\n",
      " 180.41430385 215.28090239 201.96759263 227.36230477 234.50795823\n",
      " 237.09628014 235.80799673 200.2175159  217.66746489 216.26784084\n",
      " 190.79467057 238.61889735 231.17111413 219.618491   244.18931051\n",
      " 228.17923971 232.28228993 240.21287827 237.99403031 201.31089036\n",
      " 203.23037002 210.04690019 224.06568743 211.61328567 207.82177145\n",
      " 229.9612256  217.88603802 224.53142333 200.11988732 254.42581742\n",
      " 247.12147141 169.31460916 237.2555552  205.51469248 171.73620701\n",
      " 263.49134951 217.38296986 219.58572485 244.56833486 184.18298743\n",
      " 223.2300856  175.6570115  233.08383484 253.22009941 220.49307191\n",
      " 199.52020789 168.36920597 191.02713383 237.47609017 234.84809296\n",
      " 216.85746592 207.85766249 211.05431387 275.10297887 234.54314593\n",
      " 220.76392814 199.24647349 199.15994782 221.93809109 214.52641448\n",
      " 198.13386657 240.60122218 231.01345778 194.08568973 203.15632894\n",
      " 200.17093045 212.4398415  191.97367689 230.90024743 228.53342507\n",
      " 233.36956584 222.83252966 206.780482   255.80329161 238.3572297\n",
      " 226.25798904 207.30995418 203.63918891 262.74999542 214.3071757\n",
      " 215.17884257 236.4025977  247.99317904 220.01069651 183.02895855\n",
      " 250.28797964 195.82727724 230.04617246 234.45253357 215.9488384\n",
      " 240.07892501 217.43685914 237.22744657 239.83837572 190.86213549\n",
      " 268.78740519 176.44770786 225.72872933 232.29148391 198.97039697\n",
      " 190.30815977 180.50714756 234.59828279 211.22906237 258.179614\n",
      " 200.86771534 208.98488249 193.96084437 227.73028982 234.03212914\n",
      " 190.69324579 193.22854363 218.10579674 168.68890238 256.38637091\n",
      " 208.8517929  211.9348135  239.32022338 203.13002399 210.18357692\n",
      " 226.78706669 226.59224033 208.95845542 262.39430911 228.41677715\n",
      " 216.37647507 206.85654493 245.99310935 222.94635993 250.05733138\n",
      " 232.06082711 198.53193064 231.14306039 197.78625024 213.82552868\n",
      " 234.34517755 189.77721103 244.98235924 217.09341522 254.05709493\n",
      " 188.52687668 212.74417425 256.87710042 243.31300748 200.79399904\n",
      " 229.14356779 242.58548451 221.63093822 211.93493283 213.44138799\n",
      " 199.93888038 224.63312185 272.64796706 238.96113213 266.84628843\n",
      " 187.42775529 179.96923042 204.82116255 236.32346528 213.091987\n",
      " 240.54183146 232.15649795 232.16742305 202.03859178 245.87711158\n",
      " 215.05682359 227.3369164  193.16500162 184.71463303 209.21032515\n",
      " 203.80806237 181.41046403 205.51234261 240.11738286 184.95824508\n",
      " 215.08935826 213.68815219 226.07406048 180.21042486 213.88880125\n",
      " 205.10649456 220.86268513 214.28526838 199.84383245 225.21761137\n",
      " 196.57622538 236.40260778 183.49213472 199.28466048 215.39231552\n",
      " 246.03081741 182.38528439 241.91273708 200.30351256 184.46002066\n",
      " 237.6601845  213.88811788 215.33934905 196.42699132 222.41926885\n",
      " 206.88529912 234.19375372 180.74053572 227.81933673 183.78291522\n",
      " 200.68085606 239.25403709 215.01145491 231.70000407 191.83193184\n",
      " 238.77845035 229.0564166  199.61036403 256.24695128 164.16244476\n",
      " 218.1548681  224.54889944 214.00555753 175.33952677 233.45818343\n",
      " 210.88152028 216.20542129 242.71160089 217.36556699 234.97379392\n",
      " 251.63393488 236.62486705 221.54539155 230.6245292  236.26514559\n",
      " 220.30499821 197.01553055 209.8090433  243.25761989 278.39483931\n",
      " 230.28290592 196.14021742 218.29088782 254.91626588 215.66815088\n",
      " 226.33464891 204.92829035 215.23396728 228.43579154 220.32646268\n",
      " 184.91014525 189.53882069 202.48143062 209.76880236 210.86376871\n",
      " 215.75794591 214.28215088 210.24099373 244.71909132 190.94113342\n",
      " 187.8639315  252.27842171 245.39835513 239.66012541 263.03238494]\n"
     ]
    }
   ],
   "source": [
    "# Evaluate the model on the validation data\n",
    "mse = mean_squared_error(validation_labels, validation_predictions)\n",
    "r2 = r2_score(validation_labels, validation_predictions)\n",
    "\n",
    "print(f\"Mean Squared Error on Validation Set: {mse:.2f}\")\n",
    "print(f\"R^2 Score on Validation Set: {r2:.2f}\")\n",
    "\n",
    "# Display predictions\n",
    "print(\"\\nValidation Predictions:\")\n",
    "print(validation_predictions)"
   ]
  },
  {
   "cell_type": "markdown",
   "id": "8df61753",
   "metadata": {},
   "source": [
    "### Visualisation of Predictions"
   ]
  },
  {
   "cell_type": "code",
   "execution_count": 21,
   "id": "05d209f0",
   "metadata": {},
   "outputs": [
    {
     "data": {
      "image/png": "[encoded data removed]",
      "text/plain": [
       "<Figure size 576x432 with 1 Axes>"
      ]
     },
     "metadata": {
      "needs_background": "light"
     },
     "output_type": "display_data"
    },
    {
     "name": "stdout",
     "output_type": "stream",
     "text": [
      "Correlation between true and predicted premiums: -0.02\n",
      "\n",
      "True vs Predicted Premiums:\n",
      "      True Premium  Predicted Premium\n",
      "4319        255.81         253.519214\n",
      "3759        184.65         180.478485\n",
      "25          306.07         302.802618\n",
      "1453        226.33         227.903134\n",
      "3073        212.41         208.679488\n"
     ]
    }
   ],
   "source": [
    "# Visualise predictions vs. true values using a scatter plot\n",
    "plt.figure(figsize=(8, 6))\n",
    "plt.scatter(validation_labels, validation_predictions, alpha=0.5, color='blue')\n",
    "plt.plot([validation_labels.min(), validation_labels.max()], \n",
    "         [validation_labels.min(), validation_labels.max()], 'r--', lw=2)\n",
    "plt.title('True Premium vs. Predicted Premium (Neural Network)')\n",
    "plt.xlabel('True Premium')\n",
    "plt.ylabel('Predicted Premium')\n",
    "plt.grid(True)\n",
    "plt.show()\n",
    "\n",
    "# Compute the correlation between true and predicted values\n",
    "correlation = pd.Series(validation_labels).corr(pd.Series(validation_predictions))\n",
    "print(f\"Correlation between true and predicted premiums: {correlation:.2f}\")\n",
    "\n",
    "# Display the predictions and true values in a data table\n",
    "comparison_df = pd.DataFrame({\n",
    "    'True Premium': validation_labels,\n",
    "    'Predicted Premium': validation_predictions\n",
    "})\n",
    "\n",
    "print(\"\\nTrue vs Predicted Premiums:\")\n",
    "print(comparison_df.head())"
   ]
  },
  {
   "cell_type": "markdown",
   "id": "1702a4d7",
   "metadata": {},
   "source": [
    "## Final Assessment: Predictions on Test Data"
   ]
  },
  {
   "cell_type": "code",
   "execution_count": 22,
   "id": "3b0df73b",
   "metadata": {},
   "outputs": [],
   "source": [
    "test_predictions = nn_model.predict(test_data)"
   ]
  },
  {
   "cell_type": "code",
   "execution_count": 23,
   "id": "c9648422",
   "metadata": {},
   "outputs": [
    {
     "name": "stdout",
     "output_type": "stream",
     "text": [
      "Mean Squared Error on Validation Set: 10.50\n",
      "R^2 Score on Validation Set: 0.98\n"
     ]
    }
   ],
   "source": [
    "# Evaluate the model on the validation data\n",
    "mse_test = mean_squared_error(test_labels, test_predictions)\n",
    "r2_test = r2_score(test_labels, test_predictions)\n",
    "\n",
    "print(f\"Mean Squared Error on Validation Set: {mse_test:.2f}\")\n",
    "print(f\"R^2 Score on Validation Set: {r2_test:.2f}\")"
   ]
  },
  {
   "cell_type": "code",
   "execution_count": 24,
   "id": "fea898d0",
   "metadata": {},
   "outputs": [
    {
     "data": {
      "image/png": "[encoded data removed]",
      "text/plain": [
       "<Figure size 576x432 with 1 Axes>"
      ]
     },
     "metadata": {
      "needs_background": "light"
     },
     "output_type": "display_data"
    },
    {
     "name": "stdout",
     "output_type": "stream",
     "text": [
      "Correlation between true and predicted premiums: 0.03\n",
      "\n",
      "True vs Predicted Premiums:\n",
      "      True Premium  Predicted Premium\n",
      "1573        206.38         200.178625\n",
      "464         243.79         245.085531\n",
      "1617        249.69         244.656212\n",
      "1486        219.36         220.610708\n",
      "3815        234.75         236.379139\n"
     ]
    }
   ],
   "source": [
    "# Visualise predictions vs. true values using a scatter plot\n",
    "plt.figure(figsize=(8, 6))\n",
    "plt.scatter(test_labels, test_predictions, alpha=0.5, color='blue')\n",
    "plt.plot([test_labels.min(), test_predictions.max()], \n",
    "         [test_labels.min(), test_predictions.max()], 'r--', lw=2)\n",
    "plt.title('True Premium vs. Predicted Premium (Neural Network)')\n",
    "plt.xlabel('True Premium')\n",
    "plt.ylabel('Predicted Premium')\n",
    "plt.grid(True)\n",
    "plt.show()\n",
    "\n",
    "# Compute the correlation between true and predicted values\n",
    "correlation_test = pd.Series(test_labels).corr(pd.Series(test_predictions))\n",
    "print(f\"Correlation between true and predicted premiums: {correlation_test:.2f}\")\n",
    "\n",
    "# Display the predictions and true values in a data table\n",
    "comparison_df_test = pd.DataFrame({\n",
    "    'True Premium': test_labels,\n",
    "    'Predicted Premium': test_predictions\n",
    "})\n",
    "\n",
    "print(\"\\nTrue vs Predicted Premiums:\")\n",
    "print(comparison_df_test.head())"
   ]
  }
 ],
 "metadata": {
  "kernelspec": {
   "display_name": "Python 3 (ipykernel)",
   "language": "python",
   "name": "python3"
  },
  "language_info": {
   "codemirror_mode": {
    "name": "ipython",
    "version": 3
   },
   "file_extension": ".py",
   "mimetype": "text/x-python",
   "name": "python",
   "nbconvert_exporter": "python",
   "pygments_lexer": "ipython3",
   "version": "3.9.12"
  }
 },
 "nbformat": 4,
 "nbformat_minor": 5
}
